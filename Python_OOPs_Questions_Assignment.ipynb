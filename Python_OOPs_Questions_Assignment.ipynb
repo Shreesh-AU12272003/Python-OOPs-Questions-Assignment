{
  "nbformat": 4,
  "nbformat_minor": 0,
  "metadata": {
    "colab": {
      "provenance": []
    },
    "kernelspec": {
      "name": "python3",
      "display_name": "Python 3"
    },
    "language_info": {
      "name": "python"
    }
  },
  "cells": [
    {
      "cell_type": "markdown",
      "source": [
        "###THEORY QUESTIONS"
      ],
      "metadata": {
        "id": "ij40ce6I3x6y"
      }
    },
    {
      "cell_type": "markdown",
      "source": [
        "### 1. What is Object-Oriented Programming (OOP)?\n",
        "> Object-Oriented Programming (OOP) is a programming paradigm based on the concept of \"objects,\" which can contain data (attributes) and code (methods). It helps organize complex programs, improve code reusability, and model real-world entities.\n",
        "\n",
        "\n",
        "### 2. What is a class in OOP?\n",
        "> A class in OOP is a blueprint or template for creating objects. It defines attributes (variables) and behaviors (methods) that the created objects will have.\n",
        "\n",
        "\n",
        "### 3. What is an object in OOP?\n",
        "> An object is an instance of a class. It represents a real-world entity that has properties and behaviors defined by its class.\n",
        "\n",
        "\n",
        "### 4. What is the difference between abstraction and encapsulation?\n",
        "> - **Abstraction** hides complex implementation details and shows only the essential features.\n",
        "> - **Encapsulation** binds data and methods into a single unit (class) and restricts access using access modifiers (like private, protected).\n",
        "\n",
        "\n",
        "### 5. What are dunder methods in Python?\n",
        "> Dunder methods (short for “double underscore methods”) are special methods in Python that start and end with double underscores, like `__init__`, `__str__`, `__add__`. They allow customization of basic operations like initialization, representation, addition, etc.\n",
        "\n",
        "\n",
        "### 6. Explain the concept of inheritance in OOP.\n",
        "> Inheritance allows a class (child class) to inherit attributes and methods from another class (parent class), promoting code reusability and hierarchical classification.\n",
        "\n",
        "\n",
        "### 7. What is polymorphism in OOP?\n",
        "> Polymorphism allows different classes to define methods with the same name but different implementations, enabling objects to behave differently depending on their class.\n",
        "\n",
        "\n",
        "### 8. How is encapsulation achieved in Python?\n",
        "> Encapsulation in Python is achieved by defining private variables (prefixing with `_` or `__`) and using getter and setter methods to control access.\n",
        "\n",
        "\n",
        "### 9. What is a constructor in Python?\n",
        "> A constructor is a special method (`__init__`) in Python that gets called automatically when a new object is created. It is used to initialize the object's attributes.\n",
        "\n",
        "\n",
        "### 10. What are class and static methods in Python?\n",
        "> - **Class Method**: Defined with `@classmethod` decorator; takes `cls` as the first parameter and works with the class.\n",
        "> - **Static Method**: Defined with `@staticmethod` decorator; does not take `self` or `cls`, acts like a regular function inside a class.\n",
        "\n",
        "\n",
        "### 11. What is method overloading in Python?\n",
        "> Python does not support traditional method overloading. However, default arguments and variable-length arguments can be used to mimic method overloading.\n",
        "\n",
        "\n",
        "### 12. What is method overriding in OOP?\n",
        "> Method overriding occurs when a child class provides its own implementation of a method that is already defined in the parent class.\n",
        "\n",
        "\n",
        "### 13. What is a property decorator in Python?\n",
        "> The `@property` decorator allows a method to be accessed like an attribute. It is often used for getter methods to access private variables.\n",
        "\n",
        "\n",
        "### 14. Why is polymorphism important in OOP?\n",
        "> Polymorphism increases flexibility and maintainability by allowing one interface to be used for different data types or classes.\n",
        "\n",
        "\n",
        "### 15. What is an abstract class in Python?\n",
        "> An abstract class in Python is a class that cannot be instantiated directly and is meant to be inherited. It can have abstract methods that must be implemented by child classes, using the `abc` module.\n",
        "\n",
        "\n",
        "### 16. What are the advantages of OOP?\n",
        "> - Code reusability\n",
        "> - Data abstraction\n",
        "> - Easy maintenance\n",
        "> - Scalability\n",
        "> - Real-world modeling\n",
        "\n",
        "\n",
        "### 17. What is the difference between a class variable and an instance variable?\n",
        "> - **Class Variable**: Shared by all instances of the class.\n",
        "> - **Instance Variable**: Unique to each object/instance.\n",
        "\n",
        "\n",
        "### 18. What is multiple inheritance in Python?\n",
        "> Multiple inheritance occurs when a class inherits from more than one parent class, combining the functionality of all parent classes.\n",
        "\n",
        "\n",
        "### 19. Explain the purpose of `__str__` and `__repr__` methods in Python.\n",
        "> - `__str__`: Returns a readable string representation of an object (used by `print()`).\n",
        "> - `__repr__`: Returns a detailed string for developers, used in debugging (used by `repr()`).\n",
        "\n",
        "\n",
        "### 20. What is the significance of the `super()` function in Python?\n",
        "> `super()` is used to call methods of a parent class from within a child class, especially to reuse the parent class’s methods.\n",
        "\n",
        "\n",
        "### 21. What is the significance of the `__del__` method in Python?\n",
        "> `__del__` is a destructor method that gets called when an object is about to be destroyed, used for cleanup actions like closing files or releasing resources.\n",
        "\n",
        "\n",
        "### 22. What is the difference between `@staticmethod` and `@classmethod` in Python?\n",
        "> - `@staticmethod`: No access to class (`cls`) or instance (`self`) data.\n",
        "> - `@classmethod`: Works with the class (`cls`) and can modify class state.\n",
        "\n",
        "\n",
        "### 23. How does polymorphism work in Python with inheritance?\n",
        "> When a child class overrides a method from a parent class, and that method can be called from the parent class reference, showing different behaviors at runtime.\n",
        "\n",
        "\n",
        "### 24. What is method chaining in Python OOP?\n",
        "> Method chaining is calling multiple methods sequentially in a single line where each method returns the object itself (`return self`).\n",
        "\n",
        "\n",
        "### 25. What is the purpose of the `__call__` method in Python?\n",
        "> `__call__` allows an object to be called like a function. Defining `__call__` in a class lets instances behave like callable functions."
      ],
      "metadata": {
        "id": "V5Z8KlX42-71"
      }
    },
    {
      "cell_type": "markdown",
      "source": [
        "###Practical Questions"
      ],
      "metadata": {
        "id": "-HfQUDZI4Cjz"
      }
    },
    {
      "cell_type": "markdown",
      "source": [
        "###1. Create a parent class Animal with a method speak() that prints a generic message. Create a child class Dog that overrides the speak() method to print \"Bark!\"."
      ],
      "metadata": {
        "id": "0V5wqbqt4YDi"
      }
    },
    {
      "cell_type": "code",
      "source": [
        "class Animal {\n",
        "    void speak() {\n",
        "        System.out.println(\"Animal makes a sound\");\n",
        "    }\n",
        "}\n",
        "\n",
        "class Dog extends Animal {\n",
        "    @Override\n",
        "    void speak() {\n",
        "        System.out.println(\"Bark!\");\n",
        "    }\n",
        "}\n",
        "\n",
        "public class Main {\n",
        "    public static void main(String[] args) {\n",
        "        Dog dog = new Dog();\n",
        "        dog.speak();\n",
        "    }\n",
        "}"
      ],
      "metadata": {
        "id": "E9F9RKjN4e4T"
      },
      "execution_count": null,
      "outputs": []
    },
    {
      "cell_type": "markdown",
      "source": [
        "###2. Create an abstract class Shape with a method area(). Derive classes Circle and Rectangle from it and implement the area() method in both."
      ],
      "metadata": {
        "id": "hsrvnvWz46SV"
      }
    },
    {
      "cell_type": "code",
      "source": [
        "abstract class Shape {\n",
        "    abstract void area();\n",
        "}\n",
        "\n",
        "class Circle extends Shape {\n",
        "    double radius;\n",
        "\n",
        "    Circle(double radius) {\n",
        "        this.radius = radius;\n",
        "    }\n",
        "\n",
        "    @Override\n",
        "    void area() {\n",
        "        System.out.println(\"Area of Circle: \" + (Math.PI * radius * radius));\n",
        "    }\n",
        "}\n",
        "\n",
        "class Rectangle extends Shape {\n",
        "    double length, breadth;\n",
        "\n",
        "    Rectangle(double length, double breadth) {\n",
        "        this.length = length;\n",
        "        this.breadth = breadth;\n",
        "    }\n",
        "\n",
        "    @Override\n",
        "    void area() {\n",
        "        System.out.println(\"Area of Rectangle: \" + (length * breadth));\n",
        "    }\n",
        "}\n",
        "\n",
        "public class Main {\n",
        "    public static void main(String[] args) {\n",
        "        Circle circle = new Circle(5);\n",
        "        Rectangle rectangle = new Rectangle(4, 6);\n",
        "\n",
        "        circle.area();\n",
        "        rectangle.area();\n",
        "    }\n",
        "}"
      ],
      "metadata": {
        "id": "d_qXSWXW47h3"
      },
      "execution_count": null,
      "outputs": []
    },
    {
      "cell_type": "markdown",
      "source": [
        "###3. Implement a multi-level inheritance scenario: Vehicle -> Car -> ElectricCar."
      ],
      "metadata": {
        "id": "sWSUIEB849ZF"
      }
    },
    {
      "cell_type": "code",
      "source": [
        "class Vehicle {\n",
        "    String type;\n",
        "\n",
        "    Vehicle(String type) {\n",
        "        this.type = type;\n",
        "    }\n",
        "}\n",
        "\n",
        "class Car extends Vehicle {\n",
        "    String model;\n",
        "\n",
        "    Car(String type, String model) {\n",
        "        super(type);\n",
        "        this.model = model;\n",
        "    }\n",
        "}\n",
        "\n",
        "class ElectricCar extends Car {\n",
        "    int batteryCapacity;\n",
        "\n",
        "    ElectricCar(String type, String model, int batteryCapacity) {\n",
        "        super(type, model);\n",
        "        this.batteryCapacity = batteryCapacity;\n",
        "    }\n",
        "\n",
        "    void displayInfo() {\n",
        "        System.out.println(\"Type: \" + type + \", Model: \" + model + \", Battery: \" + batteryCapacity + \" kWh\");\n",
        "    }\n",
        "}\n",
        "\n",
        "public class Main {\n",
        "    public static void main(String[] args) {\n",
        "        ElectricCar ec = new ElectricCar(\"Electric\", \"Tesla Model 3\", 75);\n",
        "        ec.displayInfo();\n",
        "    }\n",
        "}"
      ],
      "metadata": {
        "id": "rd0z5hXa4_cE"
      },
      "execution_count": null,
      "outputs": []
    },
    {
      "cell_type": "markdown",
      "source": [
        "###4. Demonstrate polymorphism: Bird -> Sparrow and Penguin."
      ],
      "metadata": {
        "id": "18Qb5QUy5RHz"
      }
    },
    {
      "cell_type": "code",
      "source": [
        "class Bird {\n",
        "    void fly() {\n",
        "        System.out.println(\"Bird is flying\");\n",
        "    }\n",
        "}\n",
        "\n",
        "class Sparrow extends Bird {\n",
        "    @Override\n",
        "    void fly() {\n",
        "        System.out.println(\"Sparrow flies high!\");\n",
        "    }\n",
        "}\n",
        "\n",
        "class Penguin extends Bird {\n",
        "    @Override\n",
        "    void fly() {\n",
        "        System.out.println(\"Penguins can't fly but swim well!\");\n",
        "    }\n",
        "}\n",
        "\n",
        "public class Main {\n",
        "    public static void main(String[] args) {\n",
        "        Bird b1 = new Sparrow();\n",
        "        Bird b2 = new Penguin();\n",
        "\n",
        "        b1.fly();\n",
        "        b2.fly();\n",
        "    }\n",
        "}"
      ],
      "metadata": {
        "id": "x9uqiIWC5UpF"
      },
      "execution_count": null,
      "outputs": []
    },
    {
      "cell_type": "markdown",
      "source": [
        "###5. Demonstrate encapsulation: BankAccount class with private attributes."
      ],
      "metadata": {
        "id": "OZCUagNO5XUm"
      }
    },
    {
      "cell_type": "code",
      "source": [
        "class BankAccount {\n",
        "    private double balance = 0;\n",
        "\n",
        "    public void deposit(double amount) {\n",
        "        if(amount > 0) balance += amount;\n",
        "    }\n",
        "\n",
        "    public void withdraw(double amount) {\n",
        "        if(amount > 0 && amount <= balance) balance -= amount;\n",
        "    }\n",
        "\n",
        "    public double getBalance() {\n",
        "        return balance;\n",
        "    }\n",
        "}\n",
        "\n",
        "public class Main {\n",
        "    public static void main(String[] args) {\n",
        "        BankAccount account = new BankAccount();\n",
        "        account.deposit(1000);\n",
        "        account.withdraw(400);\n",
        "        System.out.println(\"Current Balance: \" + account.getBalance());\n",
        "    }\n",
        "}"
      ],
      "metadata": {
        "id": "AE3t3_535bUH"
      },
      "execution_count": null,
      "outputs": []
    },
    {
      "cell_type": "markdown",
      "source": [
        "###6. Runtime polymorphism: Instrument -> Guitar, Piano."
      ],
      "metadata": {
        "id": "eE_hjNww5cty"
      }
    },
    {
      "cell_type": "code",
      "source": [
        "class Instrument {\n",
        "    void play() {\n",
        "        System.out.println(\"Instrument is playing\");\n",
        "    }\n",
        "}\n",
        "\n",
        "class Guitar extends Instrument {\n",
        "    @Override\n",
        "    void play() {\n",
        "        System.out.println(\"Guitar is playing\");\n",
        "    }\n",
        "}\n",
        "\n",
        "class Piano extends Instrument {\n",
        "    @Override\n",
        "    void play() {\n",
        "        System.out.println(\"Piano is playing\");\n",
        "    }\n",
        "}\n",
        "\n",
        "public class Main {\n",
        "    public static void main(String[] args) {\n",
        "        Instrument inst;\n",
        "\n",
        "        inst = new Guitar();\n",
        "        inst.play();\n",
        "\n",
        "        inst = new Piano();\n",
        "        inst.play();\n",
        "    }\n",
        "}"
      ],
      "metadata": {
        "id": "qrUqDJc_5fJu"
      },
      "execution_count": null,
      "outputs": []
    },
    {
      "cell_type": "markdown",
      "source": [
        "###7. MathOperations with class and static methods."
      ],
      "metadata": {
        "id": "a4s5ajK65g_X"
      }
    },
    {
      "cell_type": "code",
      "source": [
        "class MathOperations {\n",
        "    public static int addNumbers(int a, int b) {\n",
        "        return a + b;\n",
        "    }\n",
        "\n",
        "    public static int subtractNumbers(int a, int b) {\n",
        "        return a - b;\n",
        "    }\n",
        "}\n",
        "\n",
        "public class Main {\n",
        "    public static void main(String[] args) {\n",
        "        System.out.println(\"Addition: \" + MathOperations.addNumbers(5, 3));\n",
        "        System.out.println(\"Subtraction: \" + MathOperations.subtractNumbers(5, 3));\n",
        "    }\n",
        "}"
      ],
      "metadata": {
        "id": "lEHfl8o25jLB"
      },
      "execution_count": null,
      "outputs": []
    },
    {
      "cell_type": "markdown",
      "source": [
        "###8. Implement a class Person with a class method to count the total number of persons created."
      ],
      "metadata": {
        "id": "k3gU-5rw5z56"
      }
    },
    {
      "cell_type": "code",
      "source": [
        "class Person {\n",
        "    static int count = 0;\n",
        "    String name;\n",
        "\n",
        "    Person(String name) {\n",
        "        this.name = name;\n",
        "        count++;\n",
        "    }\n",
        "\n",
        "    static void totalPersons() {\n",
        "        System.out.println(\"Total persons created: \" + count);\n",
        "    }\n",
        "}\n",
        "\n",
        "public class Main {\n",
        "    public static void main(String[] args) {\n",
        "        Person p1 = new Person(\"Alice\");\n",
        "        Person p2 = new Person(\"Bob\");\n",
        "        Person.totalPersons();\n",
        "    }\n",
        "}"
      ],
      "metadata": {
        "id": "SsiB8M2m525B"
      },
      "execution_count": null,
      "outputs": []
    },
    {
      "cell_type": "markdown",
      "source": [
        "###9. Write a class Fraction with attributes numerator and denominator. Override the toString() method."
      ],
      "metadata": {
        "id": "LLxU4rOu541j"
      }
    },
    {
      "cell_type": "code",
      "source": [
        "class Fraction {\n",
        "    int numerator;\n",
        "    int denominator;\n",
        "\n",
        "    Fraction(int numerator, int denominator) {\n",
        "        this.numerator = numerator;\n",
        "        this.denominator = denominator;\n",
        "    }\n",
        "\n",
        "    @Override\n",
        "    public String toString() {\n",
        "        return numerator + \"/\" + denominator;\n",
        "    }\n",
        "}\n",
        "\n",
        "public class Main {\n",
        "    public static void main(String[] args) {\n",
        "        Fraction fraction = new Fraction(3, 4);\n",
        "        System.out.println(fraction);\n",
        "    }\n",
        "}"
      ],
      "metadata": {
        "id": "br3YmRvP5-u6"
      },
      "execution_count": null,
      "outputs": []
    },
    {
      "cell_type": "markdown",
      "source": [
        "###10. Demonstrate operator overloading by creating a class Vector (in Java).\n",
        "(Java does not allow operator overloading directly like C++, but we can simulate it by adding a method.)"
      ],
      "metadata": {
        "id": "OwluqIpD6B7d"
      }
    },
    {
      "cell_type": "code",
      "source": [
        "class Vector {\n",
        "    int x, y;\n",
        "\n",
        "    Vector(int x, int y) {\n",
        "        this.x = x;\n",
        "        this.y = y;\n",
        "    }\n",
        "\n",
        "    Vector add(Vector v) {\n",
        "        return new Vector(this.x + v.x, this.y + v.y);\n",
        "    }\n",
        "\n",
        "    @Override\n",
        "    public String toString() {\n",
        "        return \"(\" + x + \", \" + y + \")\";\n",
        "    }\n",
        "}\n",
        "\n",
        "public class Main {\n",
        "    public static void main(String[] args) {\n",
        "        Vector v1 = new Vector(2, 3);\n",
        "        Vector v2 = new Vector(4, 5);\n",
        "        Vector v3 = v1.add(v2);\n",
        "        System.out.println(\"Resultant Vector: \" + v3);\n",
        "    }\n",
        "}"
      ],
      "metadata": {
        "id": "zsQ29NSK6ERq"
      },
      "execution_count": null,
      "outputs": []
    },
    {
      "cell_type": "markdown",
      "source": [
        "###11. Create a class Person with attributes name and age. Add a method greet()."
      ],
      "metadata": {
        "id": "PeQ764eT6LgP"
      }
    },
    {
      "cell_type": "code",
      "source": [
        "class Person {\n",
        "    String name;\n",
        "    int age;\n",
        "\n",
        "    Person(String name, int age) {\n",
        "        this.name = name;\n",
        "        this.age = age;\n",
        "    }\n",
        "\n",
        "    void greet() {\n",
        "        System.out.println(\"Hello, my name is \" + name + \" and I am \" + age + \" years old.\");\n",
        "    }\n",
        "}\n",
        "\n",
        "public class Main {\n",
        "    public static void main(String[] args) {\n",
        "        Person person = new Person(\"Charlie\", 25);\n",
        "        person.greet();\n",
        "    }\n",
        "}"
      ],
      "metadata": {
        "id": "M_v8jKZP6Mky"
      },
      "execution_count": null,
      "outputs": []
    },
    {
      "cell_type": "markdown",
      "source": [
        "###12. Implement a class Student with attributes name and grades. Create a method average_grade()."
      ],
      "metadata": {
        "id": "_lwunOSQ6Obf"
      }
    },
    {
      "cell_type": "code",
      "source": [
        "class Student {\n",
        "    String name;\n",
        "    int[] grades;\n",
        "\n",
        "    Student(String name, int[] grades) {\n",
        "        this.name = name;\n",
        "        this.grades = grades;\n",
        "    }\n",
        "\n",
        "    double averageGrade() {\n",
        "        int sum = 0;\n",
        "        for (int grade : grades) {\n",
        "            sum += grade;\n",
        "        }\n",
        "        return (double) sum / grades.length;\n",
        "    }\n",
        "}\n",
        "\n",
        "public class Main {\n",
        "    public static void main(String[] args) {\n",
        "        int[] grades = {90, 80, 85, 95};\n",
        "        Student student = new Student(\"David\", grades);\n",
        "        System.out.println(\"Average Grade: \" + student.averageGrade());\n",
        "    }\n",
        "}"
      ],
      "metadata": {
        "id": "cjOIVE4F6QfK"
      },
      "execution_count": null,
      "outputs": []
    },
    {
      "cell_type": "markdown",
      "source": [
        "###13. Create a class Rectangle with methods set_dimensions() and area()."
      ],
      "metadata": {
        "id": "WiIklytI6T9N"
      }
    },
    {
      "cell_type": "code",
      "source": [
        "class Rectangle {\n",
        "    int length;\n",
        "    int width;\n",
        "\n",
        "    void setDimensions(int length, int width) {\n",
        "        this.length = length;\n",
        "        this.width = width;\n",
        "    }\n",
        "\n",
        "    int area() {\n",
        "        return length * width;\n",
        "    }\n",
        "}\n",
        "\n",
        "public class Main {\n",
        "    public static void main(String[] args) {\n",
        "        Rectangle rect = new Rectangle();\n",
        "        rect.setDimensions(5, 8);\n",
        "        System.out.println(\"Area: \" + rect.area());\n",
        "    }\n",
        "}"
      ],
      "metadata": {
        "id": "a5uJx_dW6Yci"
      },
      "execution_count": null,
      "outputs": []
    },
    {
      "cell_type": "markdown",
      "source": [
        "###14. Create a class Employee with calculate_salary() and a derived class Manager adding bonus."
      ],
      "metadata": {
        "id": "NhQpWius6dAx"
      }
    },
    {
      "cell_type": "code",
      "source": [
        "class Employee {\n",
        "    int hoursWorked;\n",
        "    int hourlyRate;\n",
        "\n",
        "    Employee(int hoursWorked, int hourlyRate) {\n",
        "        this.hoursWorked = hoursWorked;\n",
        "        this.hourlyRate = hourlyRate;\n",
        "    }\n",
        "\n",
        "    int calculateSalary() {\n",
        "        return hoursWorked * hourlyRate;\n",
        "    }\n",
        "}\n",
        "\n",
        "class Manager extends Employee {\n",
        "    int bonus;\n",
        "\n",
        "    Manager(int hoursWorked, int hourlyRate, int bonus) {\n",
        "        super(hoursWorked, hourlyRate);\n",
        "        this.bonus = bonus;\n",
        "    }\n",
        "\n",
        "    @Override\n",
        "    int calculateSalary() {\n",
        "        return super.calculateSalary() + bonus;\n",
        "    }\n",
        "}\n",
        "\n",
        "public class Main {\n",
        "    public static void main(String[] args) {\n",
        "        Manager manager = new Manager(40, 50, 1000);\n",
        "        System.out.println(\"Manager Salary: \" + manager.calculateSalary());\n",
        "    }\n",
        "}"
      ],
      "metadata": {
        "id": "ht37Elh_6eYs"
      },
      "execution_count": null,
      "outputs": []
    },
    {
      "cell_type": "markdown",
      "source": [
        "###15. Create a class Product with total_price() method."
      ],
      "metadata": {
        "id": "c1-XR_Ij6gQm"
      }
    },
    {
      "cell_type": "code",
      "source": [
        "class Product {\n",
        "    String name;\n",
        "    double price;\n",
        "    int quantity;\n",
        "\n",
        "    Product(String name, double price, int quantity) {\n",
        "        this.name = name;\n",
        "        this.price = price;\n",
        "        this.quantity = quantity;\n",
        "    }\n",
        "\n",
        "    double totalPrice() {\n",
        "        return price * quantity;\n",
        "    }\n",
        "}\n",
        "\n",
        "public class Main {\n",
        "    public static void main(String[] args) {\n",
        "        Product product = new Product(\"Laptop\", 50000, 2);\n",
        "        System.out.println(\"Total Price: \" + product.totalPrice());\n",
        "    }\n",
        "}"
      ],
      "metadata": {
        "id": "4d9tp3py6jYb"
      },
      "execution_count": null,
      "outputs": []
    },
    {
      "cell_type": "markdown",
      "source": [
        "###16. Create a class Animal with an abstract method sound() and implement in Cow and Sheep."
      ],
      "metadata": {
        "id": "EKfb79_u6k12"
      }
    },
    {
      "cell_type": "code",
      "source": [
        "abstract class Animal {\n",
        "    abstract void sound();\n",
        "}\n",
        "\n",
        "class Cow extends Animal {\n",
        "    @Override\n",
        "    void sound() {\n",
        "        System.out.println(\"Cow says Moo!\");\n",
        "    }\n",
        "}\n",
        "\n",
        "class Sheep extends Animal {\n",
        "    @Override\n",
        "    void sound() {\n",
        "        System.out.println(\"Sheep says Baa!\");\n",
        "    }\n",
        "}\n",
        "\n",
        "public class Main {\n",
        "    public static void main(String[] args) {\n",
        "        Animal cow = new Cow();\n",
        "        Animal sheep = new Sheep();\n",
        "\n",
        "        cow.sound();\n",
        "        sheep.sound();\n",
        "    }\n",
        "}"
      ],
      "metadata": {
        "id": "ks6ykeM-6m5D"
      },
      "execution_count": null,
      "outputs": []
    },
    {
      "cell_type": "markdown",
      "source": [
        "###17. Create a class Book with get_book_info() method."
      ],
      "metadata": {
        "id": "AZpuDg726ppv"
      }
    },
    {
      "cell_type": "code",
      "source": [
        "class Book {\n",
        "    String title;\n",
        "    String author;\n",
        "    int yearPublished;\n",
        "\n",
        "    Book(String title, String author, int yearPublished) {\n",
        "        this.title = title;\n",
        "        this.author = author;\n",
        "        this.yearPublished = yearPublished;\n",
        "    }\n",
        "\n",
        "    String getBookInfo() {\n",
        "        return \"Title: \" + title + \", Author: \" + author + \", Year: \" + yearPublished;\n",
        "    }\n",
        "}\n",
        "\n",
        "public class Main {\n",
        "    public static void main(String[] args) {\n",
        "        Book book = new Book(\"1984\", \"George Orwell\", 1949);\n",
        "        System.out.println(book.getBookInfo());\n",
        "    }\n",
        "}"
      ],
      "metadata": {
        "id": "3ziZJxg26tX3"
      },
      "execution_count": null,
      "outputs": []
    },
    {
      "cell_type": "markdown",
      "source": [
        "###18. Create a class House with Mansion derived class adding number_of_rooms."
      ],
      "metadata": {
        "id": "-rgnWrUy6u2f"
      }
    },
    {
      "cell_type": "code",
      "source": [
        "class House {\n",
        "    String address;\n",
        "    double price;\n",
        "\n",
        "    House(String address, double price) {\n",
        "        this.address = address;\n",
        "        this.price = price;\n",
        "    }\n",
        "}\n",
        "\n",
        "class Mansion extends House {\n",
        "    int numberOfRooms;\n",
        "\n",
        "    Mansion(String address, double price, int numberOfRooms) {\n",
        "        super(address, price);\n",
        "        this.numberOfRooms = numberOfRooms;\n",
        "    }\n",
        "\n",
        "    void displayInfo() {\n",
        "        System.out.println(\"Address: \" + address + \", Price: \" + price + \", Rooms: \" + numberOfRooms);\n",
        "    }\n",
        "}\n",
        "\n",
        "public class Main {\n",
        "    public static void main(String[] args) {\n",
        "        Mansion mansion = new Mansion(\"123 Beverly Hills\", 10000000, 15);\n",
        "        mansion.displayInfo();\n",
        "    }\n",
        "}"
      ],
      "metadata": {
        "id": "nw9Doh4g6xxp"
      },
      "execution_count": null,
      "outputs": []
    }
  ]
}